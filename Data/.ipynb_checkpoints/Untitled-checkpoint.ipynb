{
 "cells": [
  {
   "cell_type": "markdown",
   "id": "127dbc09",
   "metadata": {},
   "source": [
    "# Project 1 - Housing Prices Evaluation\n",
    "\n",
    "- Method: DecisionTree + RandomForest\n",
    "- Reference to: https://www.youtube.com/watch?v=wujyckteVYM&t=213s\n",
    "- Data source: Kaggle.com\n",
    "\n",
    "### 1. Problem definition\n",
    "- Goal: Predict house price"
   ]
  },
  {
   "cell_type": "code",
   "execution_count": 55,
   "id": "999b6541",
   "metadata": {},
   "outputs": [],
   "source": [
    "import pandas as pd\n",
    "import numpy as np"
   ]
  },
  {
   "cell_type": "markdown",
   "id": "e8b1ca29",
   "metadata": {},
   "source": [
    "#### 1.1 PREPOCESSING DATA\n",
    "- step 1. Import dataset"
   ]
  },
  {
   "cell_type": "code",
   "execution_count": 56,
   "id": "6b25f67e",
   "metadata": {},
   "outputs": [],
   "source": [
    "df = pd.read_csv(\"train.csv\", sep = \",\")"
   ]
  },
  {
   "cell_type": "code",
   "execution_count": 57,
   "id": "976fe99e",
   "metadata": {},
   "outputs": [],
   "source": [
    "# df.head(5)"
   ]
  },
  {
   "cell_type": "markdown",
   "id": "c7eb85f5",
   "metadata": {},
   "source": [
    "- Step 2. Dataset overview"
   ]
  },
  {
   "cell_type": "code",
   "execution_count": 58,
   "id": "2296ec3f",
   "metadata": {},
   "outputs": [],
   "source": [
    "# df.shape"
   ]
  },
  {
   "cell_type": "code",
   "execution_count": 59,
   "id": "9d81edc2",
   "metadata": {},
   "outputs": [],
   "source": [
    "# df.info()"
   ]
  },
  {
   "cell_type": "code",
   "execution_count": 60,
   "id": "661ab07c",
   "metadata": {},
   "outputs": [],
   "source": [
    "# list(df.columns)"
   ]
  },
  {
   "cell_type": "code",
   "execution_count": 61,
   "id": "7f86ab16",
   "metadata": {},
   "outputs": [],
   "source": [
    "# df.describe()"
   ]
  },
  {
   "cell_type": "markdown",
   "id": "964c01f6",
   "metadata": {},
   "source": [
    "- Loc & iloc"
   ]
  },
  {
   "cell_type": "code",
   "execution_count": 62,
   "id": "b28dc6de",
   "metadata": {},
   "outputs": [],
   "source": [
    "# df.loc[(df.SalePrice == 755000) | (df.Street == \"Pave\")]"
   ]
  },
  {
   "cell_type": "code",
   "execution_count": 63,
   "id": "cec42903",
   "metadata": {},
   "outputs": [],
   "source": [
    "# df.loc[(df.SalePrice == 755000) & (df.Street == \"Pave\")]"
   ]
  },
  {
   "cell_type": "code",
   "execution_count": 64,
   "id": "c2b9d22c",
   "metadata": {},
   "outputs": [],
   "source": [
    "# df.loc[(df.SalePrice == 755000) & (df.Street == \"Pave\"),['MSSubClass','SalePrice', 'Street']]"
   ]
  },
  {
   "cell_type": "code",
   "execution_count": 65,
   "id": "8baebd05",
   "metadata": {},
   "outputs": [],
   "source": [
    "# df.iloc[[9]]"
   ]
  },
  {
   "cell_type": "code",
   "execution_count": 66,
   "id": "e87e132a",
   "metadata": {},
   "outputs": [],
   "source": [
    "# df.iloc[1:10, :-75]"
   ]
  },
  {
   "cell_type": "code",
   "execution_count": 67,
   "id": "839e4ab4",
   "metadata": {},
   "outputs": [],
   "source": [
    "# x = df.iloc[1:10, :-1]\n",
    "# y = df.iloc[1:3, -1]"
   ]
  },
  {
   "cell_type": "markdown",
   "id": "03519e14",
   "metadata": {},
   "source": [
    "- Data Manipulation"
   ]
  },
  {
   "cell_type": "code",
   "execution_count": 68,
   "id": "60dc32ec",
   "metadata": {},
   "outputs": [],
   "source": [
    "# df.SalePrice.dtype"
   ]
  },
  {
   "cell_type": "code",
   "execution_count": 69,
   "id": "534bf4c8",
   "metadata": {},
   "outputs": [],
   "source": [
    "# df.SalePrice.apply(lambda x : x.replace('$','')).dtype"
   ]
  },
  {
   "cell_type": "markdown",
   "id": "fa478ef0",
   "metadata": {},
   "source": [
    "### 2. Feature Selection\n",
    "- Choose feature to train model\n",
    "- Need to use 'feature engineering' to identify feature needed"
   ]
  },
  {
   "cell_type": "code",
   "execution_count": 70,
   "id": "be92ecba",
   "metadata": {},
   "outputs": [],
   "source": [
    "needed_features =['LotArea','YearBuilt','1stFlrSF','2ndFlrSF','FullBath','BedroomAbvGr','TotRmsAbvGrd']"
   ]
  },
  {
   "cell_type": "markdown",
   "id": "9742fe85",
   "metadata": {},
   "source": [
    "### 3. Spliting the datasets"
   ]
  },
  {
   "cell_type": "code",
   "execution_count": 71,
   "id": "5e617fd8",
   "metadata": {},
   "outputs": [],
   "source": [
    "x = df[needed_features]\n",
    "y = df['SalePrice']"
   ]
  },
  {
   "cell_type": "code",
   "execution_count": 95,
   "id": "2185dd8f",
   "metadata": {},
   "outputs": [
    {
     "data": {
      "text/html": [
       "<div>\n",
       "<style scoped>\n",
       "    .dataframe tbody tr th:only-of-type {\n",
       "        vertical-align: middle;\n",
       "    }\n",
       "\n",
       "    .dataframe tbody tr th {\n",
       "        vertical-align: top;\n",
       "    }\n",
       "\n",
       "    .dataframe thead th {\n",
       "        text-align: right;\n",
       "    }\n",
       "</style>\n",
       "<table border=\"1\" class=\"dataframe\">\n",
       "  <thead>\n",
       "    <tr style=\"text-align: right;\">\n",
       "      <th></th>\n",
       "      <th>LotArea</th>\n",
       "      <th>YearBuilt</th>\n",
       "      <th>1stFlrSF</th>\n",
       "      <th>2ndFlrSF</th>\n",
       "      <th>FullBath</th>\n",
       "      <th>BedroomAbvGr</th>\n",
       "      <th>TotRmsAbvGrd</th>\n",
       "    </tr>\n",
       "  </thead>\n",
       "  <tbody>\n",
       "    <tr>\n",
       "      <th>529</th>\n",
       "      <td>32668</td>\n",
       "      <td>1957</td>\n",
       "      <td>2515</td>\n",
       "      <td>0</td>\n",
       "      <td>3</td>\n",
       "      <td>4</td>\n",
       "      <td>9</td>\n",
       "    </tr>\n",
       "    <tr>\n",
       "      <th>491</th>\n",
       "      <td>9490</td>\n",
       "      <td>1941</td>\n",
       "      <td>958</td>\n",
       "      <td>620</td>\n",
       "      <td>1</td>\n",
       "      <td>3</td>\n",
       "      <td>5</td>\n",
       "    </tr>\n",
       "    <tr>\n",
       "      <th>459</th>\n",
       "      <td>7015</td>\n",
       "      <td>1950</td>\n",
       "      <td>979</td>\n",
       "      <td>224</td>\n",
       "      <td>1</td>\n",
       "      <td>3</td>\n",
       "      <td>5</td>\n",
       "    </tr>\n",
       "    <tr>\n",
       "      <th>279</th>\n",
       "      <td>10005</td>\n",
       "      <td>1977</td>\n",
       "      <td>1156</td>\n",
       "      <td>866</td>\n",
       "      <td>2</td>\n",
       "      <td>4</td>\n",
       "      <td>8</td>\n",
       "    </tr>\n",
       "    <tr>\n",
       "      <th>655</th>\n",
       "      <td>1680</td>\n",
       "      <td>1971</td>\n",
       "      <td>525</td>\n",
       "      <td>567</td>\n",
       "      <td>1</td>\n",
       "      <td>3</td>\n",
       "      <td>6</td>\n",
       "    </tr>\n",
       "  </tbody>\n",
       "</table>\n",
       "</div>"
      ],
      "text/plain": [
       "     LotArea  YearBuilt  1stFlrSF  2ndFlrSF  FullBath  BedroomAbvGr  \\\n",
       "529    32668       1957      2515         0         3             4   \n",
       "491     9490       1941       958       620         1             3   \n",
       "459     7015       1950       979       224         1             3   \n",
       "279    10005       1977      1156       866         2             4   \n",
       "655     1680       1971       525       567         1             3   \n",
       "\n",
       "     TotRmsAbvGrd  \n",
       "529             9  \n",
       "491             5  \n",
       "459             5  \n",
       "279             8  \n",
       "655             6  "
      ]
     },
     "execution_count": 95,
     "metadata": {},
     "output_type": "execute_result"
    }
   ],
   "source": [
    "from sklearn.model_selection import train_test_split\n",
    "x_train, x_test, y_train, y_test = train_test_split(x,y,test_size = 0.2, random_state = 0)"
   ]
  },
  {
   "cell_type": "code",
   "execution_count": 73,
   "id": "cdd3f874",
   "metadata": {},
   "outputs": [],
   "source": [
    "#x_train.shape"
   ]
  },
  {
   "cell_type": "code",
   "execution_count": 74,
   "id": "91beadd3",
   "metadata": {},
   "outputs": [],
   "source": [
    "#x_test.shape"
   ]
  },
  {
   "cell_type": "code",
   "execution_count": 75,
   "id": "f808d647",
   "metadata": {},
   "outputs": [],
   "source": [
    "#x.shape"
   ]
  },
  {
   "cell_type": "markdown",
   "id": "7b61a404",
   "metadata": {},
   "source": [
    "### 4. Training Machine Learning Model\n",
    "#### 4.1 Decision Tree Regressor"
   ]
  },
  {
   "cell_type": "code",
   "execution_count": 76,
   "id": "55582c8c",
   "metadata": {},
   "outputs": [],
   "source": [
    "from sklearn.tree import DecisionTreeRegressor"
   ]
  },
  {
   "cell_type": "code",
   "execution_count": 77,
   "id": "170e6aa5",
   "metadata": {},
   "outputs": [],
   "source": [
    "dt_model = DecisionTreeRegressor(random_state=1)"
   ]
  },
  {
   "cell_type": "code",
   "execution_count": 78,
   "id": "2d25afc0",
   "metadata": {},
   "outputs": [
    {
     "data": {
      "text/plain": [
       "DecisionTreeRegressor(random_state=1)"
      ]
     },
     "execution_count": 78,
     "metadata": {},
     "output_type": "execute_result"
    }
   ],
   "source": [
    "dt_model.fit(x_train,y_train)"
   ]
  },
  {
   "cell_type": "code",
   "execution_count": 79,
   "id": "1ae676f3",
   "metadata": {},
   "outputs": [],
   "source": [
    "y_train_pre = dt_model.predict(x_train.head())\n",
    "y_test_pre = dt_model.predict(x_test.head())"
   ]
  },
  {
   "cell_type": "code",
   "execution_count": 80,
   "id": "92652630",
   "metadata": {},
   "outputs": [
    {
     "data": {
      "text/plain": [
       "array([335000., 140200., 119000., 207500., 112000.])"
      ]
     },
     "execution_count": 80,
     "metadata": {},
     "output_type": "execute_result"
    }
   ],
   "source": [
    "y_test_pre"
   ]
  },
  {
   "cell_type": "code",
   "execution_count": 113,
   "id": "46c6e639",
   "metadata": {},
   "outputs": [
    {
     "data": {
      "text/plain": [
       "array([335000., 140200., 119000., 207500., 112000.])"
      ]
     },
     "execution_count": 113,
     "metadata": {},
     "output_type": "execute_result"
    }
   ],
   "source": [
    "pd.DataFrame({'y_test' : y_test.head(), 'y_test_pre': y_test_pre})"
   ]
  },
  {
   "cell_type": "markdown",
   "id": "5903691b",
   "metadata": {},
   "source": [
    "#### 4.2 RandomForestRegressor"
   ]
  },
  {
   "cell_type": "code",
   "execution_count": 82,
   "id": "39eb09eb",
   "metadata": {},
   "outputs": [
    {
     "data": {
      "text/plain": [
       "RandomForestRegressor(random_state=1)"
      ]
     },
     "execution_count": 82,
     "metadata": {},
     "output_type": "execute_result"
    }
   ],
   "source": [
    "from sklearn.ensemble import RandomForestRegressor, GradientBoostingRegressor\n",
    "\n",
    "rf_model = RandomForestRegressor(random_state=1)\n",
    "rf_model.fit(x_train, y_train)"
   ]
  },
  {
   "cell_type": "code",
   "execution_count": 108,
   "id": "c1aedbed",
   "metadata": {},
   "outputs": [],
   "source": [
    "y_train_pre_rf = rf_model.predict(x_train.head())\n",
    "y_test_pre_rf = rf_model.predict(x_test.head())"
   ]
  },
  {
   "cell_type": "markdown",
   "id": "e329549e",
   "metadata": {},
   "source": [
    "- predict with a new input"
   ]
  },
  {
   "cell_type": "code",
   "execution_count": 120,
   "id": "28c23f51",
   "metadata": {},
   "outputs": [
    {
     "data": {
      "text/html": [
       "<div>\n",
       "<style scoped>\n",
       "    .dataframe tbody tr th:only-of-type {\n",
       "        vertical-align: middle;\n",
       "    }\n",
       "\n",
       "    .dataframe tbody tr th {\n",
       "        vertical-align: top;\n",
       "    }\n",
       "\n",
       "    .dataframe thead th {\n",
       "        text-align: right;\n",
       "    }\n",
       "</style>\n",
       "<table border=\"1\" class=\"dataframe\">\n",
       "  <thead>\n",
       "    <tr style=\"text-align: right;\">\n",
       "      <th></th>\n",
       "      <th>LotArea</th>\n",
       "      <th>YearBuilt</th>\n",
       "      <th>1stFlrSF</th>\n",
       "      <th>2ndFlrSF</th>\n",
       "      <th>FullBath</th>\n",
       "      <th>BedroomAbvGr</th>\n",
       "      <th>TotRmsAbvGrd</th>\n",
       "      <th>y_test_pre_rf</th>\n",
       "    </tr>\n",
       "  </thead>\n",
       "  <tbody>\n",
       "    <tr>\n",
       "      <th>529</th>\n",
       "      <td>32668</td>\n",
       "      <td>1957</td>\n",
       "      <td>2515</td>\n",
       "      <td>0</td>\n",
       "      <td>3</td>\n",
       "      <td>4</td>\n",
       "      <td>9</td>\n",
       "      <td>271690.0</td>\n",
       "    </tr>\n",
       "    <tr>\n",
       "      <th>491</th>\n",
       "      <td>9490</td>\n",
       "      <td>1941</td>\n",
       "      <td>958</td>\n",
       "      <td>620</td>\n",
       "      <td>1</td>\n",
       "      <td>3</td>\n",
       "      <td>5</td>\n",
       "      <td>155039.0</td>\n",
       "    </tr>\n",
       "    <tr>\n",
       "      <th>459</th>\n",
       "      <td>7015</td>\n",
       "      <td>1950</td>\n",
       "      <td>979</td>\n",
       "      <td>224</td>\n",
       "      <td>1</td>\n",
       "      <td>3</td>\n",
       "      <td>5</td>\n",
       "      <td>122024.0</td>\n",
       "    </tr>\n",
       "    <tr>\n",
       "      <th>279</th>\n",
       "      <td>10005</td>\n",
       "      <td>1977</td>\n",
       "      <td>1156</td>\n",
       "      <td>866</td>\n",
       "      <td>2</td>\n",
       "      <td>4</td>\n",
       "      <td>8</td>\n",
       "      <td>188915.0</td>\n",
       "    </tr>\n",
       "    <tr>\n",
       "      <th>655</th>\n",
       "      <td>1680</td>\n",
       "      <td>1971</td>\n",
       "      <td>525</td>\n",
       "      <td>567</td>\n",
       "      <td>1</td>\n",
       "      <td>3</td>\n",
       "      <td>6</td>\n",
       "      <td>91147.0</td>\n",
       "    </tr>\n",
       "  </tbody>\n",
       "</table>\n",
       "</div>"
      ],
      "text/plain": [
       "     LotArea  YearBuilt  1stFlrSF  2ndFlrSF  FullBath  BedroomAbvGr  \\\n",
       "529    32668       1957      2515         0         3             4   \n",
       "491     9490       1941       958       620         1             3   \n",
       "459     7015       1950       979       224         1             3   \n",
       "279    10005       1977      1156       866         2             4   \n",
       "655     1680       1971       525       567         1             3   \n",
       "\n",
       "     TotRmsAbvGrd  y_test_pre_rf  \n",
       "529             9       271690.0  \n",
       "491             5       155039.0  \n",
       "459             5       122024.0  \n",
       "279             8       188915.0  \n",
       "655             6        91147.0  "
      ]
     },
     "execution_count": 120,
     "metadata": {},
     "output_type": "execute_result"
    }
   ],
   "source": [
    "overview = x_test.head().copy()\n",
    "overview['y_test_pre_rf'] = y_test_pre_rf\n",
    "overview"
   ]
  },
  {
   "cell_type": "code",
   "execution_count": 44,
   "id": "b1df0d05",
   "metadata": {},
   "outputs": [
    {
     "name": "stderr",
     "output_type": "stream",
     "text": [
      "C:\\Users\\Hien\\anaconda3\\lib\\site-packages\\sklearn\\base.py:450: UserWarning: X does not have valid feature names, but RandomForestRegressor was fitted with feature names\n",
      "  warnings.warn(\n"
     ]
    },
    {
     "data": {
      "text/plain": [
       "array([177442.47])"
      ]
     },
     "execution_count": 44,
     "metadata": {},
     "output_type": "execute_result"
    }
   ],
   "source": [
    "rf_model.predict([[1000,1980,1200,900,2,3,8]])"
   ]
  }
 ],
 "metadata": {
  "kernelspec": {
   "display_name": "Python 3 (ipykernel)",
   "language": "python",
   "name": "python3"
  },
  "language_info": {
   "codemirror_mode": {
    "name": "ipython",
    "version": 3
   },
   "file_extension": ".py",
   "mimetype": "text/x-python",
   "name": "python",
   "nbconvert_exporter": "python",
   "pygments_lexer": "ipython3",
   "version": "3.9.12"
  }
 },
 "nbformat": 4,
 "nbformat_minor": 5
}
